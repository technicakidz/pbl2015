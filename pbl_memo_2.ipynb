{
 "metadata": {
  "name": "",
  "signature": "sha256:c018432445e668d990e3a3c8af700e3191d7349c7549df739e1d00d119714c4e"
 },
 "nbformat": 3,
 "nbformat_minor": 0,
 "worksheets": [
  {
   "cells": [
    {
     "cell_type": "markdown",
     "metadata": {},
     "source": [
      "#\u30af\u30e9\u30b9\u30bf\u30ea\u30f3\u30b0\n",
      "##k\u2212means"
     ]
    },
    {
     "cell_type": "markdown",
     "metadata": {},
     "source": [
      "##k-nn"
     ]
    },
    {
     "cell_type": "markdown",
     "metadata": {},
     "source": [
      "node\u304cN\u500b\u3042\u308b\u3068\u3059\u308b\u3002\n",
      "\u30af\u30e9\u30b9\u30bf\u306e\u6570\u304cX\u500b\u3042\u308b\u3068\u3059\u308b\u3002\n",
      "\n",
      "\u8fd1\u508d\u306ek\u500b\u3092\u78ba\u8a8d\u3092\u5b9a\u3081\u308b\u3002(K=3)\n",
      "N\u500b\u306enode\u306b\u5bfe\u3057\u3066\u3001X\u500b\u306e\u30af\u30e9\u30b9\u30bf\u3092\u30e9\u30f3\u30c0\u30e0\u306b\u5272\u308a\u632f\u308b\u3002\n",
      "\u30eb\u30fc\u30d7\u306e\u56de\u6570\u3092\u6c7a\u3081\u308b\u3002(flag=1000)\n",
      "for i range(flag):\n",
      "    for n in range(N):\n",
      "        node[n]\u306b\u5bfe\u3057\u3066\u3001\u8fd1\u508d\u306ek\u500b\u306e\u6240\u5c5e\u30af\u30e9\u30b9\u30bf\u3092\u78ba\u8a8d\u3059\u308b\u3002\n",
      "        \u6240\u5c5e\u30af\u30e9\u30b9\u30bf\u3092\u4e00\u756a\u591a\u3044\u30af\u30e9\u30b9\u30bf\u306bnode[n]\u3092\u6240\u5c5e\u3055\u305b\u308b\u3002\n",
      "    if(\u5168\u3066\u306enode\u306e\u6240\u5c5e\u30af\u30e9\u30b9\u30bf\u304c\u524d\u306e\u30eb\u30fc\u30d7\u306e\u6642\u3068\u5909\u308f\u3089\u306a\u3044):\n",
      "        break"
     ]
    },
    {
     "cell_type": "markdown",
     "metadata": {},
     "source": [
      "##web\u4f5c\u6210"
     ]
    },
    {
     "cell_type": "markdown",
     "metadata": {},
     "source": [
      "flask,\n",
      "pyramid"
     ]
    },
    {
     "cell_type": "code",
     "collapsed": false,
     "input": [],
     "language": "python",
     "metadata": {},
     "outputs": []
    }
   ],
   "metadata": {}
  }
 ]
}
