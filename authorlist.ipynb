{
 "cells": [
  {
   "cell_type": "code",
   "execution_count": 3,
   "metadata": {
    "collapsed": true
   },
   "outputs": [],
   "source": [
    "f=open('author.txt',\"rb\")\n",
    "author = f.read()\n",
    "f.close()"
   ]
  },
  {
   "cell_type": "code",
   "execution_count": 4,
   "metadata": {
    "collapsed": false
   },
   "outputs": [
    {
     "name": "stdout",
     "output_type": "stream",
     "text": [
      "<type 'unicode'>\n"
     ]
    }
   ],
   "source": [
    "author=author.decode('utf-8')\n",
    "print type(author)"
   ]
  },
  {
   "cell_type": "code",
   "execution_count": 5,
   "metadata": {
    "collapsed": true
   },
   "outputs": [],
   "source": [
    "authors = dict()"
   ]
  },
  {
   "cell_type": "code",
   "execution_count": 9,
   "metadata": {
    "collapsed": false
   },
   "outputs": [],
   "source": [
    "op = author.split(u\"▲\") #五十音ごとに分割\n",
    "tmp=str() #author.txtの文字列格納変数\n",
    "for ixx,names in enumerate(op):\n",
    "    tmp2=list() #名前をリスト化\n",
    "    for ix,name in enumerate(names.split(u\"\\n\")): #改行で著者名を分割\n",
    "        if len(name) == 1:\n",
    "            tmp = name\n",
    "        #print ixx,ix,name\n",
    "        if len(name) in [0,1]:\n",
    "            continue\n",
    "        tmp2.append(name.split(u\"(\")[0][:-1]) #\"(\"と全角空白の前までが著者名\n",
    "        #print tmp2\n",
    "    authors[tmp]=tmp2"
   ]
  },
  {
   "cell_type": "code",
   "execution_count": 86,
   "metadata": {
    "collapsed": false
   },
   "outputs": [
    {
     "name": "stdout",
     "output_type": "stream",
     "text": [
      "アーヴィング ワシントン\n",
      "アークム フレデリック\n",
      "愛知 敬一\n",
      "会津 八一\n",
      "饗庭 篁村\n",
      "青木 栄瞳\n",
      "青空文庫 \n",
      "青野 季吉\n",
      "青柳 喜兵衛\n",
      "秋田 雨雀\n",
      "秋田 滋\n",
      "秋月 種樹\n",
      "秋野 平\n",
      "芥川 竜之介\n",
      "浅井 洌\n",
      "朝倉 克彦\n",
      "浅沼 稲次郎\n",
      "浅野 正恭\n",
      "浅野 和三郎\n",
      "東 健而\n",
      "阿部 次郎\n",
      "阿部 徳蔵\n",
      "アミーチス エドモンド・デ\n",
      "荒木 光二郎\n",
      "アラルコン ペドロ・アントニオ\n",
      "有島 武郎\n",
      "アルチバシェッフ ミハイル・ペトローヴィチ\n",
      "アルテンベルク ペーター\n",
      "アレニウス スヴァンテ\n",
      "淡島 寒月\n",
      "アンデルセン ハンス・クリスチャン\n",
      "アンドレーエフ レオニード・ニコラーエヴィチ\n"
     ]
    }
   ],
   "source": [
    "print \"\\n\".join(authors[u\"ア\"])"
   ]
  },
  {
   "cell_type": "code",
   "execution_count": null,
   "metadata": {
    "collapsed": false
   },
   "outputs": [],
   "source": []
  },
  {
   "cell_type": "code",
   "execution_count": null,
   "metadata": {
    "collapsed": true
   },
   "outputs": [],
   "source": []
  }
 ],
 "metadata": {
  "kernelspec": {
   "display_name": "Python 2",
   "language": "python",
   "name": "python2"
  },
  "language_info": {
   "codemirror_mode": {
    "name": "ipython",
    "version": 2
   },
   "file_extension": ".py",
   "mimetype": "text/x-python",
   "name": "python",
   "nbconvert_exporter": "python",
   "pygments_lexer": "ipython2",
   "version": "2.7.10"
  }
 },
 "nbformat": 4,
 "nbformat_minor": 0
}
