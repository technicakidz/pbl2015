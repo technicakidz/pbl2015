{
 "cells": [
  {
   "cell_type": "code",
   "execution_count": 13,
   "metadata": {
    "collapsed": false
   },
   "outputs": [
    {
     "data": {
      "text/plain": [
       "[1, 2, 3]"
      ]
     },
     "execution_count": 13,
     "metadata": {},
     "output_type": "execute_result"
    }
   ],
   "source": [
    "a=[1,2,3,4]\n",
    "a[0:-1]"
   ]
  },
  {
   "cell_type": "code",
   "execution_count": 11,
   "metadata": {
    "collapsed": false
   },
   "outputs": [
    {
     "data": {
      "text/plain": [
       "['\\xe3\\x81\\x82']"
      ]
     },
     "execution_count": 11,
     "metadata": {},
     "output_type": "execute_result"
    }
   ],
   "source": [
    "a=[\"あ\"]\n",
    "a"
   ]
  },
  {
   "cell_type": "code",
   "execution_count": 3,
   "metadata": {
    "collapsed": false
   },
   "outputs": [],
   "source": [
    "def get_author(PATH=\"./author.txt\"):\n",
    "    f=open('author.txt',\"rb\")\n",
    "    author = f.read()\n",
    "    f.close()\n",
    "    author=author.decode('utf-8')\n",
    "    authors = dict()\n",
    "    op = author.split(u\"▲\") #五十音ごとに分割\n",
    "    tmp=str() #author.txtの文字列格納変数\n",
    "    for ixx,names in enumerate(op):\n",
    "        tmp2=list() #名前をリスト化\n",
    "    for ix,name in enumerate(names.split(u\"\\n\")): #改行で著者名を分割\n",
    "        if len(name) == 1:\n",
    "            tmp = name\n",
    "        #print ixx,ix,name\n",
    "        if len(name) in [0,1]:\n",
    "            continue\n",
    "        tmp2.append(name.split(u\"(\")[0][:-1]) #\"(\"と全角空白の前までが著者名\n",
    "        #print tmp2\n",
    "    authors[tmp]=tmp2"
   ]
  },
  {
   "cell_type": "code",
   "execution_count": null,
   "metadata": {
    "collapsed": true
   },
   "outputs": [],
   "source": []
  }
 ],
 "metadata": {
  "kernelspec": {
   "display_name": "Python 2",
   "language": "python",
   "name": "python2"
  },
  "language_info": {
   "codemirror_mode": {
    "name": "ipython",
    "version": 2
   },
   "file_extension": ".py",
   "mimetype": "text/x-python",
   "name": "python",
   "nbconvert_exporter": "python",
   "pygments_lexer": "ipython2",
   "version": "2.7.10"
  }
 },
 "nbformat": 4,
 "nbformat_minor": 0
}
