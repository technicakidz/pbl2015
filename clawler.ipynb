{
 "cells": [
  {
   "cell_type": "code",
   "execution_count": 6,
   "metadata": {
    "collapsed": true
   },
   "outputs": [],
   "source": [
    "import scrapy\n",
    "\n",
    "class DmozItem(scrapy.Item):\n",
    "    title = scrapy.Field()\n",
    "    link = scrapy.Field()\n",
    "    desc = scrapy.Field()"
   ]
  },
  {
   "cell_type": "markdown",
   "metadata": {},
   "source": [
    "\"\"\"\n",
    "フォルダ構成\n",
    "scrapy.cfg：プロジェクトのConfigファイル\n",
    "tutorial/：プロジェクトのPythonモジュールで、ここからimportして使用する\n",
    "tutorial/items.py：itemsのファイル\n",
    "tutorial/pipelines.py：pipelineのファイル\n",
    "tutorial/setting.py：settingのファイル\n",
    "tutorial/spiders/：スパイダーを配置するディレクトリ\n",
    "tutorial/\n",
    "    scrapy.cfg\n",
    "    tutorial/\n",
    "        __init__.py\n",
    "        items.py\n",
    "        pipelines.py\n",
    "        settings.py\n",
    "        spiders/\n",
    "            __init__.py\n",
    "            ...</pre>\n",
    "\"\"\""
   ]
  },
  {
   "cell_type": "code",
   "execution_count": 8,
   "metadata": {
    "collapsed": false
   },
   "outputs": [
    {
     "ename": "IndentationError",
     "evalue": "unindent does not match any outer indentation level (<ipython-input-8-7f3a6f5f9e8e>, line 14)",
     "output_type": "error",
     "traceback": [
      "\u001b[0;36m  File \u001b[0;32m\"<ipython-input-8-7f3a6f5f9e8e>\"\u001b[0;36m, line \u001b[0;32m14\u001b[0m\n\u001b[0;31m    for sel in response.xpath('//ul/li'):\u001b[0m\n\u001b[0m                                         \n^\u001b[0m\n\u001b[0;31mIndentationError\u001b[0m\u001b[0;31m:\u001b[0m unindent does not match any outer indentation level\n"
     ]
    }
   ],
   "source": [
    "import scrapy\n",
    "\n",
    "from tutorial.items import DmozItem\n",
    "\n",
    "class DmozSpider(scrapy.Spider):\n",
    "   name = \"dmoz\"\n",
    "   allowed_domains = [\"dmoz.org\"]\n",
    "   start_urls = [\n",
    "        \"http://www.dmoz.org/Computers/Programming/Languages/Python/Books/\",\n",
    "        \"http://www.dmoz.org/Computers/Programming/Languages/Python/Resources/\"\n",
    "   ]\n",
    "\n",
    "   def parse(self, response):\n",
    "  　 for sel in response.xpath('//ul/li'):\n",
    "    　   item = DmozItem()\n",
    "      　 item['title'] = sel.xpath('a/text()').extract()\n",
    "       　item['link'] = sel.xpath('a/@href').extract()\n",
    "       　item['desc'] = sel.xpath('text()').extract()\n",
    "       　yield item"
   ]
  },
  {
   "cell_type": "code",
   "execution_count": 9,
   "metadata": {
    "collapsed": false
   },
   "outputs": [
    {
     "name": "stdout",
     "output_type": "stream",
     "text": [
      "<class 'pyquery.pyquery.PyQuery'>\n"
     ]
    }
   ],
   "source": [
    "# coding: shift_jis\n",
    "import re\n",
    "import scrapy\n",
    "from pyquery import PyQuery as pq\n",
    "\n",
    "html='''\n",
    "<li><a href=\"person1257.html#sakuhin_list_1\">アーヴィング ワシントン</a>　(公開中：3)　　</li>\n",
    "<li><a href=\"person1657.html#sakuhin_list_1\">アークム フレデリック</a>　(公開中：1)　　</li>\n",
    "<li><a href=\"person1234.html#sakuhin_list_1\">愛知 敬一</a>　(公開中：1)　　</li>\n",
    "<li><a href=\"person1245.html#sakuhin_list_1\">会津 八一</a>　(公開中：4)　　</li>\n",
    "<li><a href=\"person374.html#sakuhin_list_1\">饗庭 篁村</a>　(公開中：2)　　</li>\n",
    "<li><a href=\"person330.html#sakuhin_list_1\">青木 栄瞳</a>　(公開中：1)　　<strong>＊著作権存続＊</strong>　</li>\n",
    "'''\n",
    "\n",
    "dom = pq(html)\n",
    "dom('li').each(lambda index, node: pq(node).attr(class_='red', x='123'))\n",
    "\n",
    "print type(dom)"
   ]
  },
  {
   "cell_type": "code",
   "execution_count": null,
   "metadata": {
    "collapsed": true
   },
   "outputs": [],
   "source": []
  }
 ],
 "metadata": {
  "kernelspec": {
   "display_name": "Python 2",
   "language": "python",
   "name": "python2"
  },
  "language_info": {
   "codemirror_mode": {
    "name": "ipython",
    "version": 2
   },
   "file_extension": ".py",
   "mimetype": "text/x-python",
   "name": "python",
   "nbconvert_exporter": "python",
   "pygments_lexer": "ipython2",
   "version": "2.7.10"
  }
 },
 "nbformat": 4,
 "nbformat_minor": 0
}
