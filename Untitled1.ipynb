{
 "cells": [
  {
   "cell_type": "code",
   "execution_count": 2,
   "metadata": {
    "collapsed": false
   },
   "outputs": [
    {
     "ename": "ImportError",
     "evalue": "No module named py2cytoscape.util",
     "output_type": "error",
     "traceback": [
      "\u001b[0;31m---------------------------------------------------------------------------\u001b[0m",
      "\u001b[0;31mImportError\u001b[0m                               Traceback (most recent call last)",
      "\u001b[0;32m<ipython-input-2-56b7fe4eef8f>\u001b[0m in \u001b[0;36m<module>\u001b[0;34m()\u001b[0m\n\u001b[1;32m     10\u001b[0m \u001b[0;34m\u001b[0m\u001b[0m\n\u001b[1;32m     11\u001b[0m \u001b[0;31m# cyRESTを使うときに便利なユーティリティー集\u001b[0m\u001b[0;34m\u001b[0m\u001b[0;34m\u001b[0m\u001b[0m\n\u001b[0;32m---> 12\u001b[0;31m \u001b[0;32mimport\u001b[0m \u001b[0mpy2cytoscape\u001b[0m\u001b[0;34m.\u001b[0m\u001b[0mutil\u001b[0m \u001b[0;32mas\u001b[0m \u001b[0mcy\u001b[0m\u001b[0;34m\u001b[0m\u001b[0m\n\u001b[0m\u001b[1;32m     13\u001b[0m \u001b[0;34m\u001b[0m\u001b[0m\n\u001b[1;32m     14\u001b[0m \u001b[0;31m# cyREST サーバーのIPアドレス（Cytoscapeを実行しているマシンのアドレス）。必ず設定が必要です！\u001b[0m\u001b[0;34m\u001b[0m\u001b[0;34m\u001b[0m\u001b[0m\n",
      "\u001b[0;31mImportError\u001b[0m: No module named py2cytoscape.util"
     ]
    }
   ],
   "source": [
    "# 必要なライブラリのインポート\n",
    "import requests\n",
    "import json\n",
    "from IPython.display import Image\n",
    "import pandas as pd\n",
    "import networkx as nx\n",
    "\n",
    "import matplotlib.pyplot as plt\n",
    "%matplotlib inline\n",
    "\n",
    "# cyRESTを使うときに便利なユーティリティー集\n",
    "import py2cytoscape.util as cy\n",
    "\n",
    "# cyREST サーバーのIPアドレス（Cytoscapeを実行しているマシンのアドレス）。必ず設定が必要です！\n",
    "IP = '10.0.1.6'\n",
    "\n",
    "# cyRESTサーバーの情報。デフォルトのポートは1234\n",
    "PORT_NUMBER = 1234\n",
    "\n",
    "# 定数としてベースとなるURLを保存\n",
    "BASE = 'http://' + IP + ':' + str(PORT_NUMBER) + '/v1/'\n",
    "\n",
    "#JSONをポストするときに必要\n",
    "HEADERS = {'Content-Type': 'application/json'}\n",
    "\n",
    "# 表示されるURLをクリックして動作確認。\n",
    "print('このリンクをクリックして接続確認: ' + BASE)"
   ]
  },
  {
   "cell_type": "code",
   "execution_count": null,
   "metadata": {
    "collapsed": true
   },
   "outputs": [],
   "source": []
  }
 ],
 "metadata": {
  "kernelspec": {
   "display_name": "Python 2",
   "language": "python",
   "name": "python2"
  },
  "language_info": {
   "codemirror_mode": {
    "name": "ipython",
    "version": 2
   },
   "file_extension": ".py",
   "mimetype": "text/x-python",
   "name": "python",
   "nbconvert_exporter": "python",
   "pygments_lexer": "ipython2",
   "version": "2.7.11"
  }
 },
 "nbformat": 4,
 "nbformat_minor": 0
}
